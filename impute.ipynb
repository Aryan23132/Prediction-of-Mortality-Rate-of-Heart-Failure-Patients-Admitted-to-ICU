{
 "cells": [
  {
   "cell_type": "code",
   "execution_count": 3,
   "metadata": {},
   "outputs": [],
   "source": [
    "import numpy as np\n",
    "import pandas as pd\n",
    "import matplotlib.pyplot as plt\n",
    "from sklearn.preprocessing import StandardScaler, RobustScaler\n",
    "from sklearn.model_selection import StratifiedKFold, GridSearchCV, train_test_split\n",
    "from sklearn.pipeline import Pipeline\n",
    "from sklearn.impute import SimpleImputer, KNNImputer\n",
    "from sklearn.decomposition import PCA\n",
    "\n",
    "from sklearn.naive_bayes import GaussianNB\n",
    "from sklearn.tree import DecisionTreeClassifier\n",
    "from sklearn.ensemble import RandomForestClassifier\n",
    "from sklearn.neural_network import MLPClassifier\n",
    "from sklearn.neighbors import KNeighborsClassifier\n",
    "from sklearn.linear_model import LogisticRegression\n",
    "from sklearn.svm import SVC\n",
    "\n",
    "from sklearn.metrics import classification_report, accuracy_score, precision_score, recall_score, f1_score\n",
    "from sklearn.feature_selection import SelectKBest\n",
    "\n",
    "import seaborn as sns"
   ]
  },
  {
   "cell_type": "code",
   "execution_count": 8,
   "metadata": {},
   "outputs": [
    {
     "name": "stdout",
     "output_type": "stream",
     "text": [
      "(1058, 48)\n",
      "(1058, 1)\n"
     ]
    }
   ],
   "source": [
    "df_test=pd.read_csv(\"test_data.csv\")\n",
    "X=pd.read_csv(\"training_data.csv\")\n",
    "y=pd.read_csv(\"training_data_targets.csv\", header=None)\n",
    "\n",
    "print(X.shape)\n",
    "print(y.shape)"
   ]
  },
  {
   "cell_type": "code",
   "execution_count": 7,
   "metadata": {},
   "outputs": [
    {
     "name": "stdout",
     "output_type": "stream",
     "text": [
      "age                           0\n",
      "gendera                       0\n",
      "BMI                         190\n",
      "hypertensive                  0\n",
      "atrialfibrillation            0\n",
      "CHD with no MI                0\n",
      "diabetes                      0\n",
      "deficiencyanemias             0\n",
      "depression                    0\n",
      "Hyperlipemia                  0\n",
      "Renal failure                 0\n",
      "COPD                          0\n",
      "heart rate                   12\n",
      "Systolic blood pressure      14\n",
      "Diastolic blood pressure     14\n",
      "Respiratory rate             12\n",
      "temperature                  18\n",
      "SP O2                        12\n",
      "Urine output                 34\n",
      "hematocrit                    0\n",
      "RBC                           0\n",
      "MCH                           0\n",
      "MCHC                          0\n",
      "MCV                           0\n",
      "RDW                           0\n",
      "Leucocyte                     0\n",
      "Platelets                     0\n",
      "Neutrophils                 122\n",
      "Basophils                   216\n",
      "Lymphocyte                  122\n",
      "PT                           18\n",
      "INR                          18\n",
      "NT-proBNP                     0\n",
      "Creatine kinase             148\n",
      "Creatinine                    0\n",
      "Urea nitrogen                 0\n",
      "glucose                      15\n",
      "Blood potassium               0\n",
      "Blood sodium                  0\n",
      "Blood calcium                 1\n",
      "Chloride                      0\n",
      "Anion gap                     0\n",
      "Magnesium ion                 0\n",
      "PH                          272\n",
      "Bicarbonate                   0\n",
      "Lactic acid                 211\n",
      "PCO2                        274\n",
      "EF                            0\n",
      "dtype: int64\n"
     ]
    }
   ],
   "source": [
    "missing_values_per_column = X.isnull().sum()\n",
    "print(missing_values_per_column)"
   ]
  },
  {
   "cell_type": "code",
   "execution_count": 15,
   "metadata": {},
   "outputs": [],
   "source": [
    "mean_imputer = SimpleImputer(strategy='mean')\n",
    "X_mean_imp = pd.DataFrame(\n",
    "    data=mean_imputer.fit_transform(X),\n",
    "    columns=X.columns    \n",
    ")\n",
    "\n",
    "X_mean_imp.shape[0] - X_mean_imp.count()"
   ]
  },
  {
   "cell_type": "code",
   "execution_count": 16,
   "metadata": {},
   "outputs": [],
   "source": [
    "\n",
    "   \n",
    "\n"
   ]
  },
  {
   "cell_type": "code",
   "execution_count": null,
   "metadata": {},
   "outputs": [],
   "source": []
  },
  {
   "cell_type": "code",
   "execution_count": 24,
   "metadata": {},
   "outputs": [
    {
     "name": "stdout",
     "output_type": "stream",
     "text": [
      "Best Hyperparameters: {'max_depth': None, 'min_samples_leaf': 1, 'min_samples_split': 2, 'n_estimators': 50}\n",
      "Accuracy of the Best Model: 0.91\n"
     ]
    }
   ],
   "source": [
    "X_train, X_test, y_train, y_test = train_test_split(\n",
    "    X_mean_imp, y.values.ravel(),\n",
    "    test_size=0.2, random_state=42\n",
    ")\n",
    "\n",
    "# Define the RandomForestClassifier\n",
    "rf_classifier = RandomForestClassifier(random_state=42)\n",
    "\n",
    "# Define the hyperparameter grid to search\n",
    "param_grid = {\n",
    "    'n_estimators': [20, 50, 80],\n",
    "    'max_depth': [None, 10, 20],\n",
    "    'min_samples_split': [2, 5, 10],\n",
    "    'min_samples_leaf': [1, 2, 4]\n",
    "}\n",
    "\n",
    "# Create the GridSearchCV object\n",
    "grid_search = GridSearchCV(estimator=rf_classifier, param_grid=param_grid, cv=5, scoring='accuracy')\n",
    "\n",
    "# Fit the GridSearchCV object to the data\n",
    "grid_search.fit(X_train, y_train)\n",
    "\n",
    "# Print the best hyperparameters\n",
    "print(\"Best Hyperparameters:\", grid_search.best_params_)\n",
    "\n",
    "# Get the best model\n",
    "best_model = grid_search.best_estimator_\n",
    "\n",
    "# Make predictions on the test set using the best model\n",
    "y_pred = best_model.predict(X_test)\n",
    "\n",
    "# Evaluate the best model\n",
    "accuracy = accuracy_score(y_test, y_pred)\n",
    "print(f'Accuracy of the Best Model: {accuracy:.2f}')"
   ]
  },
  {
   "cell_type": "code",
   "execution_count": 26,
   "metadata": {},
   "outputs": [
    {
     "name": "stdout",
     "output_type": "stream",
     "text": [
      "              precision    recall  f1-score   support\n",
      "\n",
      "           0       0.91      0.99      0.95       191\n",
      "           1       0.75      0.14      0.24        21\n",
      "\n",
      "    accuracy                           0.91       212\n",
      "   macro avg       0.83      0.57      0.60       212\n",
      "weighted avg       0.90      0.91      0.88       212\n",
      "\n"
     ]
    }
   ],
   "source": [
    "print(classification_report(y_test, best_model.predict(X_test)))"
   ]
  }
 ],
 "metadata": {
  "kernelspec": {
   "display_name": "base",
   "language": "python",
   "name": "python3"
  },
  "language_info": {
   "codemirror_mode": {
    "name": "ipython",
    "version": 3
   },
   "file_extension": ".py",
   "mimetype": "text/x-python",
   "name": "python",
   "nbconvert_exporter": "python",
   "pygments_lexer": "ipython3",
   "version": "3.9.13"
  },
  "orig_nbformat": 4
 },
 "nbformat": 4,
 "nbformat_minor": 2
}
